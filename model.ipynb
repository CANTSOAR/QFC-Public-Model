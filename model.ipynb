{
 "cells": [
  {
   "cell_type": "code",
   "execution_count": 1,
   "metadata": {},
   "outputs": [],
   "source": [
    "%pip install numpy\n",
    "%pip install pandas\n",
    "%pip install matplotlib\n",
    "%pip install yfinance\n",
    "%pip install statsmodels"
   ]
  },
  {
   "cell_type": "code",
   "execution_count": 2,
   "metadata": {},
   "outputs": [],
   "source": [
    "import numpy as np\n",
    "import pandas as pd\n",
    "import matplotlib.pyplot as plt\n",
    "import yfinance as yf"
   ]
  },
  {
   "cell_type": "code",
   "execution_count": 3,
   "metadata": {},
   "outputs": [],
   "source": [
    "df_stats = pd.read_csv(\"stock_data.csv\")\n",
    "df_hist = pd.read_csv(\"historical_data.csv\", header = [0, 1], index_col = 0, parse_dates = True)\n",
    "df_hist = df_hist.xs(\"Close\", axis = 1, level = 1)"
   ]
  },
  {
   "cell_type": "code",
   "execution_count": 4,
   "metadata": {},
   "outputs": [],
   "source": [
    "df_stats.head()"
   ]
  },
  {
   "cell_type": "code",
   "execution_count": null,
   "metadata": {},
   "outputs": [],
   "source": [
    "df_hist.head()"
   ]
  },
  {
   "cell_type": "code",
   "execution_count": null,
   "metadata": {},
   "outputs": [],
   "source": [
    "\"\"\"\n",
    "\n",
    "Call if you want to redownload data with different tickers or time range\n",
    "\n",
    "tickers = df_stats[\"Symbol\"].map(lambda x: x.split(\" \")[0])\n",
    "df_hist = yf.download(list(tickers.values), period = \"max\", interval = \"1d\", group_by = \"tickers\")\n",
    "df_hist.dropna(inplace = True)\n",
    "df_hist.to_csv(\"historical_data.csv\")\n",
    "\n",
    "\"\"\""
   ]
  },
  {
   "cell_type": "code",
   "execution_count": 7,
   "metadata": {},
   "outputs": [],
   "source": [
    "#using cboe 30 year treasury yield index as a proxy for risk free rate\n",
    "#remember to divide by 252 (# of trading days in a year) to make daily risk free rate\n",
    "\n",
    "#daily_risk_free_rate = yf.download(\"^TYX\", period = \"max\", interval = \"1d\", group_by = \"tickers\").iloc[-len(df_hist):] / 252\n",
    "#daily_risk_free_rate.to_csv(\"risk_free.csv\")\n",
    "\n",
    "daily_risk_free_rate = pd.read_csv(\"risk_free.csv\", header = [0, 1], index_col = 0, parse_dates = True)\n",
    "daily_risk_free_rate = daily_risk_free_rate.xs(\"Close\", axis = 1, level = 1)[\"^TYX\"]"
   ]
  },
  {
   "cell_type": "code",
   "execution_count": null,
   "metadata": {},
   "outputs": [],
   "source": [
    "df_hist.columns"
   ]
  },
  {
   "cell_type": "code",
   "execution_count": 14,
   "metadata": {},
   "outputs": [],
   "source": [
    "#some data engineering to create the fama 3 data\n",
    "\n",
    "#pick some energy company, entirely up to you, just pick from above\n",
    "asset = None\n",
    "\n",
    "df_fama_3 = pd.DataFrame()\n",
    "df_fama_3.index = df_hist.index[1:]\n",
    "\n",
    "#subtract R_f from R_m (the average return of our entire portfolio, which I've designated as market) - feel free to pull better data ^SNP or ^IXIC if youd like\n",
    "df_fama_3[\"Mkt_Returns\"] = df_hist.pct_change()[1:].mean(axis = 1) - daily_risk_free_rate\n",
    "df_fama_3[\"Asset_Returns\"] = df_hist[asset].pct_change()[1:].mean() - daily_risk_free_rate\n",
    "\n",
    "#top N percent, and bottom N percent\n",
    "mkt_cap_threshold = .5\n",
    "\n",
    "top_n_mkt_cap = df_stats[\"Symbol\"][df_stats[\"Market cap\"] > df_stats[\"Market cap\"].quantile(1 - mkt_cap_threshold)]\n",
    "bot_n_mkt_cap = df_stats[\"Symbol\"][df_stats[\"Market cap\"] < df_stats[\"Market cap\"].quantile(mkt_cap_threshold)]\n",
    "\n",
    "df_fama_3[\"SMB\"] = df_hist[bot_n_mkt_cap].pct_change()[1:].mean(axis = 1) - df_hist[top_n_mkt_cap].pct_change()[1:].mean(axis = 1)\n",
    "\n",
    "#try coding HML, we will go over together (note, book-to-market = 1 / price-to-book)\n"
   ]
  },
  {
   "cell_type": "code",
   "execution_count": null,
   "metadata": {},
   "outputs": [],
   "source": [
    "df_fama_3"
   ]
  },
  {
   "cell_type": "code",
   "execution_count": 23,
   "metadata": {},
   "outputs": [],
   "source": [
    "training_pct = .8\n",
    "training_index = int(len(df_fama_3) * training_pct)\n",
    "\n",
    "df_train = df_fama_3[:training_index]\n",
    "df_test = df_fama_3[training_index:]"
   ]
  },
  {
   "cell_type": "code",
   "execution_count": null,
   "metadata": {},
   "outputs": [],
   "source": [
    "import statsmodels.formula.api as smf\n",
    "\n",
    "model = smf.ols(\"Asset_Returns ~ Mkt_Returns + SMB + HML\", df_train)\n",
    "result = model.fit()\n",
    "\n",
    "print(result.summary())"
   ]
  },
  {
   "cell_type": "code",
   "execution_count": null,
   "metadata": {},
   "outputs": [],
   "source": [
    "plt.plot(df_test[\"Asset_Returns\"], label = \"Test\")\n",
    "plt.plot(result.predict(df_test), label = \"Predicted\")\n",
    "\n",
    "plt.legend()\n",
    "plt.show()\n",
    "\n",
    "plt.plot(df_train[\"Asset_Returns\"], label = \"Training\")\n",
    "plt.plot(result.predict(df_train), label = \"Training_Pred\")\n",
    "\n",
    "plt.legend()\n",
    "plt.show()"
   ]
  }
 ],
 "metadata": {
  "kernelspec": {
   "display_name": "new_env",
   "language": "python",
   "name": "python3"
  },
  "language_info": {
   "codemirror_mode": {
    "name": "ipython",
    "version": 3
   },
   "file_extension": ".py",
   "mimetype": "text/x-python",
   "name": "python",
   "nbconvert_exporter": "python",
   "pygments_lexer": "ipython3",
   "version": "3.9.19"
  }
 },
 "nbformat": 4,
 "nbformat_minor": 2
}
